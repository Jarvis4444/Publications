{
 "cells": [
  {
   "cell_type": "markdown",
   "metadata": {},
   "source": [
    "![](https://persuasive2021.bournemouth.ac.uk/assets/img/BU.png)\n",
    "___\n",
    "# Bournemouth University\n",
    "## Faculty of Science & Technology - BSc (Hons) Forensic Computing & Security\n",
    "### Paul-David Jarvis\n",
    "\n",
    "## Table of contents\n",
    "\n",
    "1. [Vulnerabilities](1_vulnerabilities.ipynb)\n",
    "2. [Cities](2_cities.ipynb)\n",
    "3. [Countries](3_countries.ipynb)\n",
    "4. [Operating Systems](4_operatingsystems.ipynb)\n",
    "5. [Ports](5_ports.ipynb)\n",
    "6. [Products & Services](6_products.ipynb)\n",
    "7. [Tags & Devices](7_tags.ipynb)\n",
    "8. [Protocols](8_protocols.ipynb)\n",
    "9. [Historical Numbers](9_historical_numbers.ipynb)\n",
    "____\n"
   ]
  },
  {
   "cell_type": "markdown",
   "metadata": {},
   "source": [
    "## Additional Related Works?\n",
    "\n",
    "[European Union Agency Agency for Cybersecurity](https://www.enisa.europa.eu)\n",
    "\n",
    "[Digital Threats: Research and Practice](https://dl.acm.org/journal/dtrap)\n",
    "\n",
    "[IEEE Cyber Security and Resilience (CSR) Workshop on Actionable Cyber Threat Intelligence (ACTI)](https://www.ieee-csr.org/workshops/acti/)\n",
    "\n",
    "\n",
    "____"
   ]
  },
  {
   "cell_type": "markdown",
   "metadata": {},
   "source": [
    "# Important Data-Legend\n",
    "## Important Information - Full data legend can be found within the .xlsx file.\n",
    "\n",
    "| Source URL | Source Type | Data Type |\n",
    "| --- | --- | --- |\n",
    "| https://www.imd.org/smart-city-observatory/smart-city-index/ | IMD Smart City Index | Smart Cities,Smart City Data,Population |\n",
    "| https://www.imd.org/wcc/world-competitiveness-center-rankings/world-digital-competitiveness-rankings-2020/ | IMD World Digital Competitiveness | Overall Ranking, Factor Numbers |\n",
    "| https://media.iese.edu/research/pdfs/ST-0542-E.pdf | IESE Cities in Motion Index | Cities-In-Motion,Cities-In-Motion  Data |\n",
    "| https://www.c40.org/researches/municipality-led-circular-economy | C40 | Circular Cities Data |\n",
    "| https://cve.mitre.org/  | CVE | CVE Data |\n",
    "| https://nvd.nist.gov/ | NVD | CVSS, CPE and CWE Data, Exploit Data |\n",
    "| https://cwe.mitre.org/ | CWE | CAPEC ID |\n",
    "| https://capec.mitre.org/ | CAPEC | CAPEC Data |\n",
    "| https://attack.mitre.org/ | ATT&CK | ATT&CK Tactics, ATT&CK Techniques, ATT&CK Sub Techniques\n",
    "| https://www.shodan.io/ | Shodan.io | Exposure Numbers, Products, Devices, Tags, Protocls |"
   ]
  },
  {
   "cell_type": "markdown",
   "metadata": {},
   "source": [
    "# Capture Dates\n",
    "\n",
    "| Data | Started | Finished | Script Used |\n",
    "| --- | --- | --- | --- |\n",
    "| CVEs | 15-Feb-21  | 15-Feb-21 | CVEs.sh |\n",
    "| Devices | 15-Feb-21  | 15-Feb-21 | Devicesfacets.sh |\n",
    "| Products | 15-Feb-21 | 15-Feb-21 | Productsfacets.sh |\n",
    "| Tags | 15-Feb-21  | 15-Feb-21 | Tagsfacets.sh |\n",
    "| Operating Systems | 15-Feb-21 | 15-Feb-21 | OperatingSystemsfacets.sh |\n",
    "| Countries | 16-Feb-21  | 18-Feb-21 | Country.sh |\n",
    "| Cities | 19-Feb-21  | 20-Feb-21 | Cities.sh |\n",
    "| Protocols | 20-Feb-21  | 20-Feb-21 | Protocols.sh |"
   ]
  },
  {
   "cell_type": "code",
   "execution_count": 1,
   "metadata": {},
   "outputs": [
    {
     "name": "stdout",
     "output_type": "stream",
     "text": [
      "Requirement already satisfied: xlrd in /home/jarvis4444/anaconda3/envs/enisa/lib/python3.8/site-packages (1.2.0)\n",
      "Requirement already satisfied: pycountry-convert in /home/jarvis4444/anaconda3/envs/enisa/lib/python3.8/site-packages (0.7.2)\n",
      "Requirement already satisfied: repoze.lru>=0.7 in /home/jarvis4444/anaconda3/envs/enisa/lib/python3.8/site-packages (from pycountry-convert) (0.7)\n",
      "Requirement already satisfied: pytest-mock>=1.6.3 in /home/jarvis4444/anaconda3/envs/enisa/lib/python3.8/site-packages (from pycountry-convert) (3.2.0)\n",
      "Requirement already satisfied: pycountry>=16.11.27.1 in /home/jarvis4444/anaconda3/envs/enisa/lib/python3.8/site-packages (from pycountry-convert) (20.7.3)\n",
      "Requirement already satisfied: pprintpp>=0.3.0 in /home/jarvis4444/anaconda3/envs/enisa/lib/python3.8/site-packages (from pycountry-convert) (0.4.0)\n",
      "Requirement already satisfied: wheel>=0.30.0 in /home/jarvis4444/anaconda3/envs/enisa/lib/python3.8/site-packages (from pycountry-convert) (0.34.2)\n",
      "Requirement already satisfied: pytest>=3.4.0 in /home/jarvis4444/anaconda3/envs/enisa/lib/python3.8/site-packages (from pycountry-convert) (6.0.1)\n",
      "Requirement already satisfied: pytest-cov>=2.5.1 in /home/jarvis4444/anaconda3/envs/enisa/lib/python3.8/site-packages (from pycountry-convert) (2.10.0)\n",
      "Requirement already satisfied: py>=1.8.2 in /home/jarvis4444/anaconda3/envs/enisa/lib/python3.8/site-packages (from pytest>=3.4.0->pycountry-convert) (1.9.0)\n",
      "Requirement already satisfied: iniconfig in /home/jarvis4444/anaconda3/envs/enisa/lib/python3.8/site-packages (from pytest>=3.4.0->pycountry-convert) (1.0.1)\n",
      "Requirement already satisfied: pluggy<1.0,>=0.12 in /home/jarvis4444/anaconda3/envs/enisa/lib/python3.8/site-packages (from pytest>=3.4.0->pycountry-convert) (0.13.1)\n",
      "Requirement already satisfied: packaging in /home/jarvis4444/anaconda3/envs/enisa/lib/python3.8/site-packages (from pytest>=3.4.0->pycountry-convert) (20.4)\n",
      "Requirement already satisfied: toml in /home/jarvis4444/anaconda3/envs/enisa/lib/python3.8/site-packages (from pytest>=3.4.0->pycountry-convert) (0.10.1)\n",
      "Requirement already satisfied: more-itertools>=4.0.0 in /home/jarvis4444/anaconda3/envs/enisa/lib/python3.8/site-packages (from pytest>=3.4.0->pycountry-convert) (8.4.0)\n",
      "Requirement already satisfied: attrs>=17.4.0 in /home/jarvis4444/anaconda3/envs/enisa/lib/python3.8/site-packages (from pytest>=3.4.0->pycountry-convert) (19.3.0)\n",
      "Requirement already satisfied: coverage>=4.4 in /home/jarvis4444/anaconda3/envs/enisa/lib/python3.8/site-packages (from pytest-cov>=2.5.1->pycountry-convert) (5.2.1)\n",
      "Requirement already satisfied: pyparsing>=2.0.2 in /home/jarvis4444/anaconda3/envs/enisa/lib/python3.8/site-packages (from packaging->pytest>=3.4.0->pycountry-convert) (2.4.7)\n",
      "Requirement already satisfied: six in /home/jarvis4444/anaconda3/envs/enisa/lib/python3.8/site-packages (from packaging->pytest>=3.4.0->pycountry-convert) (1.15.0)\n"
     ]
    }
   ],
   "source": [
    "!pip install xlrd #For .xlxs\n",
    "!pip install pycountry-convert #for Countries"
   ]
  }
 ],
 "metadata": {
  "kernelspec": {
   "display_name": "Python 3",
   "language": "python",
   "name": "python3"
  },
  "language_info": {
   "codemirror_mode": {
    "name": "ipython",
    "version": 3
   },
   "file_extension": ".py",
   "mimetype": "text/x-python",
   "name": "python",
   "nbconvert_exporter": "python",
   "pygments_lexer": "ipython3",
   "version": "3.8.3"
  }
 },
 "nbformat": 4,
 "nbformat_minor": 4
}
